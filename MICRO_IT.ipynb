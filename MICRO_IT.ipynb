{
  "nbformat": 4,
  "nbformat_minor": 0,
  "metadata": {
    "colab": {
      "provenance": [],
      "authorship_tag": "ABX9TyMYXchTJVge8eDVBP7P2nQm",
      "include_colab_link": true
    },
    "kernelspec": {
      "name": "python3",
      "display_name": "Python 3"
    },
    "language_info": {
      "name": "python"
    }
  },
  "cells": [
    {
      "cell_type": "markdown",
      "metadata": {
        "id": "view-in-github",
        "colab_type": "text"
      },
      "source": [
        "<a href=\"https://colab.research.google.com/github/yneha70/MICRO_IT/blob/main/MICRO_IT.ipynb\" target=\"_parent\"><img src=\"https://colab.research.google.com/assets/colab-badge.svg\" alt=\"Open In Colab\"/></a>"
      ]
    },
    {
      "cell_type": "code",
      "execution_count": 1,
      "metadata": {
        "id": "Fwe8zn7y_eB6",
        "outputId": "59fd11ea-f9e1-4896-cf18-de3e52744010",
        "colab": {
          "base_uri": "https://localhost:8080/"
        }
      },
      "outputs": [
        {
          "output_type": "stream",
          "name": "stdout",
          "text": [
            "Welcome to the Password Generator!\n",
            "----------------------------------\n",
            "Enter desired password length (e.g. 8-20): 9\n",
            "Include uppercase letters? (y/n): y\n",
            "Include lowercase letters? (y/n): y\n",
            "Include numbers? (y/n): y\n",
            "Include special characters? (y/n): y\n",
            "\n",
            "Generated Password: *hyv>]V2C\n"
          ]
        }
      ],
      "source": [
        "import random\n",
        "import string\n",
        "\n",
        "def generate_password(length, use_uppercase, use_lowercase, use_digits, use_special):\n",
        "    character_pool = \"\"\n",
        "\n",
        "    if use_uppercase:\n",
        "        character_pool += string.ascii_uppercase\n",
        "    if use_lowercase:\n",
        "        character_pool += string.ascii_lowercase\n",
        "    if use_digits:\n",
        "        character_pool += string.digits\n",
        "    if use_special:\n",
        "        character_pool += string.punctuation\n",
        "\n",
        "    if not character_pool:\n",
        "        return \"Error: No character types selected. Please select at least one option.\"\n",
        "\n",
        "    password = ''.join(random.choice(character_pool) for _ in range(length))\n",
        "    return password\n",
        "\n",
        "def password_generator():\n",
        "    print(\"Welcome to the Password Generator!\")\n",
        "    print(\"----------------------------------\")\n",
        "\n",
        "    try:\n",
        "        length = int(input(\"Enter desired password length (e.g. 8-20): \"))\n",
        "        if length < 1:\n",
        "            print(\"Password length must be greater than 0.\")\n",
        "            return\n",
        "    except ValueError:\n",
        "        print(\"Invalid input. Please enter a numeric value.\")\n",
        "        return\n",
        "\n",
        "    use_uppercase = input(\"Include uppercase letters? (y/n): \").lower() == 'y'\n",
        "    use_lowercase = input(\"Include lowercase letters? (y/n): \").lower() == 'y'\n",
        "    use_digits    = input(\"Include numbers? (y/n): \").lower() == 'y'\n",
        "    use_special   = input(\"Include special characters? (y/n): \").lower() == 'y'\n",
        "\n",
        "    password = generate_password(length, use_uppercase, use_lowercase, use_digits, use_special)\n",
        "    print(f\"\\nGenerated Password: {password}\")\n",
        "\n",
        "# Run the password generator\n",
        "password_generator()\n"
      ]
    }
  ]
}