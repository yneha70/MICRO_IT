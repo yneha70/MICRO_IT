{
  "nbformat": 4,
  "nbformat_minor": 0,
  "metadata": {
    "colab": {
      "provenance": [],
      "authorship_tag": "ABX9TyMtQXRXNdb361t9PFMbBINY",
      "include_colab_link": true
    },
    "kernelspec": {
      "name": "python3",
      "display_name": "Python 3"
    },
    "language_info": {
      "name": "python"
    }
  },
  "cells": [
    {
      "cell_type": "markdown",
      "metadata": {
        "id": "view-in-github",
        "colab_type": "text"
      },
      "source": [
        "<a href=\"https://colab.research.google.com/github/yneha70/MICRO_IT/blob/main/MICRO_IT.ipynb\" target=\"_parent\"><img src=\"https://colab.research.google.com/assets/colab-badge.svg\" alt=\"Open In Colab\"/></a>"
      ]
    },
    {
      "cell_type": "code",
      "execution_count": null,
      "metadata": {
        "colab": {
          "base_uri": "https://localhost:8080/"
        },
        "id": "ebwRKY5y-cYO",
        "outputId": "c2900e1e-62db-4449-a04a-f159a796bf64"
      },
      "outputs": [
        {
          "output_type": "stream",
          "name": "stdout",
          "text": [
            "Welcome to Simple Calculator!\n",
            "-------------------------------\n",
            "\n",
            "Select an operation:\n",
            "1. Addition (+)\n",
            "2. Subtraction (-)\n",
            "3. Multiplication (*)\n",
            "4. Division (/)\n",
            "5. Exit\n",
            "Enter your choice (1/2/3/4/5): 3\n",
            "Enter first number: 2\n",
            "Enter second number: 4\n",
            "Result: 2.0 * 4.0 = 8.0\n",
            "\n",
            "Select an operation:\n",
            "1. Addition (+)\n",
            "2. Subtraction (-)\n",
            "3. Multiplication (*)\n",
            "4. Division (/)\n",
            "5. Exit\n"
          ]
        }
      ],
      "source": [
        "def add(x, y):\n",
        "    return x + y\n",
        "\n",
        "def subtract(x, y):\n",
        "    return x - y\n",
        "\n",
        "def multiply(x, y):\n",
        "    return x * y\n",
        "\n",
        "def divide(x, y):\n",
        "    if y == 0:\n",
        "        return \"Error: Cannot divide by zero.\"\n",
        "    else:\n",
        "        return x / y\n",
        "\n",
        "def calculator():\n",
        "    print(\"Welcome to Simple Calculator!\")\n",
        "    print(\"-------------------------------\")\n",
        "\n",
        "    while True:\n",
        "        print(\"\\nSelect an operation:\")\n",
        "        print(\"1. Addition (+)\")\n",
        "        print(\"2. Subtraction (-)\")\n",
        "        print(\"3. Multiplication (*)\")\n",
        "        print(\"4. Division (/)\")\n",
        "        print(\"5. Exit\")\n",
        "\n",
        "        choice = input(\"Enter your choice (1/2/3/4/5): \")\n",
        "\n",
        "        if choice in ('1', '2', '3', '4'):\n",
        "            try:\n",
        "                num1 = float(input(\"Enter first number: \"))\n",
        "                num2 = float(input(\"Enter second number: \"))\n",
        "            except ValueError:\n",
        "                print(\"Invalid input. Please enter numeric values.\")\n",
        "                continue\n",
        "\n",
        "            if choice == '1':\n",
        "                print(f\"Result: {num1} + {num2} = {add(num1, num2)}\")\n",
        "            elif choice == '2':\n",
        "                print(f\"Result: {num1} - {num2} = {subtract(num1, num2)}\")\n",
        "            elif choice == '3':\n",
        "                print(f\"Result: {num1} * {num2} = {multiply(num1, num2)}\")\n",
        "            elif choice == '4':\n",
        "                result = divide(num1, num2)\n",
        "                print(f\"Result: {num1} / {num2} = {result}\")\n",
        "        elif choice == '5':\n",
        "            print(\"Thank you for using the calculator. Goodbye!\")\n",
        "            break\n",
        "        else:\n",
        "            print(\"Invalid choice. Please select a valid option (1-5).\")\n",
        "\n",
        "# Run the calculator\n",
        "calculator()\n"
      ]
    }
  ]
}